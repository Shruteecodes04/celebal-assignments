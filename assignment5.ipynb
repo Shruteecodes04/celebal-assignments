{
  "nbformat": 4,
  "nbformat_minor": 0,
  "metadata": {
    "colab": {
      "provenance": [],
      "authorship_tag": "ABX9TyOAgXs3EvADx/c6Oa0SXc4n",
      "include_colab_link": true
    },
    "kernelspec": {
      "name": "python3",
      "display_name": "Python 3"
    },
    "language_info": {
      "name": "python"
    }
  },
  "cells": [
    {
      "cell_type": "markdown",
      "metadata": {
        "id": "view-in-github",
        "colab_type": "text"
      },
      "source": [
        "<a href=\"https://colab.research.google.com/github/Shruteecodes04/celebal-assignments/blob/main/assignment5.ipynb\" target=\"_parent\"><img src=\"https://colab.research.google.com/assets/colab-badge.svg\" alt=\"Open In Colab\"/></a>"
      ]
    },
    {
      "cell_type": "code",
      "execution_count": 1,
      "metadata": {
        "id": "EIV4lbl-Bh--"
      },
      "outputs": [],
      "source": [
        "import pandas as pd\n",
        "\n",
        "train = pd.read_csv('train.csv')\n",
        "test = pd.read_csv('test.csv')\n",
        "full = pd.concat([train.drop('SalePrice', axis=1), test], axis=0)\n"
      ]
    },
    {
      "cell_type": "code",
      "source": [
        "missing = full.isnull().sum()\n",
        "missing[missing > 0].sort_values(ascending=False)"
      ],
      "metadata": {
        "colab": {
          "base_uri": "https://localhost:8080/",
          "height": 1000
        },
        "id": "oRqMYSAGCAgv",
        "outputId": "3a43c4a6-6a61-4eac-99a0-bf8458688e91"
      },
      "execution_count": 2,
      "outputs": [
        {
          "output_type": "execute_result",
          "data": {
            "text/plain": [
              "PoolQC          2909\n",
              "MiscFeature     2814\n",
              "Alley           2721\n",
              "Fence           2348\n",
              "MasVnrType      1766\n",
              "FireplaceQu     1420\n",
              "LotFrontage      486\n",
              "GarageQual       159\n",
              "GarageYrBlt      159\n",
              "GarageCond       159\n",
              "GarageFinish     159\n",
              "GarageType       157\n",
              "BsmtExposure      82\n",
              "BsmtCond          82\n",
              "BsmtQual          81\n",
              "BsmtFinType2      80\n",
              "BsmtFinType1      79\n",
              "MasVnrArea        23\n",
              "MSZoning           4\n",
              "BsmtFullBath       2\n",
              "Functional         2\n",
              "BsmtHalfBath       2\n",
              "Utilities          2\n",
              "BsmtFinSF1         1\n",
              "Exterior2nd        1\n",
              "Exterior1st        1\n",
              "Electrical         1\n",
              "TotalBsmtSF        1\n",
              "BsmtUnfSF          1\n",
              "BsmtFinSF2         1\n",
              "KitchenQual        1\n",
              "GarageArea         1\n",
              "GarageCars         1\n",
              "SaleType           1\n",
              "dtype: int64"
            ],
            "text/html": [
              "<div>\n",
              "<style scoped>\n",
              "    .dataframe tbody tr th:only-of-type {\n",
              "        vertical-align: middle;\n",
              "    }\n",
              "\n",
              "    .dataframe tbody tr th {\n",
              "        vertical-align: top;\n",
              "    }\n",
              "\n",
              "    .dataframe thead th {\n",
              "        text-align: right;\n",
              "    }\n",
              "</style>\n",
              "<table border=\"1\" class=\"dataframe\">\n",
              "  <thead>\n",
              "    <tr style=\"text-align: right;\">\n",
              "      <th></th>\n",
              "      <th>0</th>\n",
              "    </tr>\n",
              "  </thead>\n",
              "  <tbody>\n",
              "    <tr>\n",
              "      <th>PoolQC</th>\n",
              "      <td>2909</td>\n",
              "    </tr>\n",
              "    <tr>\n",
              "      <th>MiscFeature</th>\n",
              "      <td>2814</td>\n",
              "    </tr>\n",
              "    <tr>\n",
              "      <th>Alley</th>\n",
              "      <td>2721</td>\n",
              "    </tr>\n",
              "    <tr>\n",
              "      <th>Fence</th>\n",
              "      <td>2348</td>\n",
              "    </tr>\n",
              "    <tr>\n",
              "      <th>MasVnrType</th>\n",
              "      <td>1766</td>\n",
              "    </tr>\n",
              "    <tr>\n",
              "      <th>FireplaceQu</th>\n",
              "      <td>1420</td>\n",
              "    </tr>\n",
              "    <tr>\n",
              "      <th>LotFrontage</th>\n",
              "      <td>486</td>\n",
              "    </tr>\n",
              "    <tr>\n",
              "      <th>GarageQual</th>\n",
              "      <td>159</td>\n",
              "    </tr>\n",
              "    <tr>\n",
              "      <th>GarageYrBlt</th>\n",
              "      <td>159</td>\n",
              "    </tr>\n",
              "    <tr>\n",
              "      <th>GarageCond</th>\n",
              "      <td>159</td>\n",
              "    </tr>\n",
              "    <tr>\n",
              "      <th>GarageFinish</th>\n",
              "      <td>159</td>\n",
              "    </tr>\n",
              "    <tr>\n",
              "      <th>GarageType</th>\n",
              "      <td>157</td>\n",
              "    </tr>\n",
              "    <tr>\n",
              "      <th>BsmtExposure</th>\n",
              "      <td>82</td>\n",
              "    </tr>\n",
              "    <tr>\n",
              "      <th>BsmtCond</th>\n",
              "      <td>82</td>\n",
              "    </tr>\n",
              "    <tr>\n",
              "      <th>BsmtQual</th>\n",
              "      <td>81</td>\n",
              "    </tr>\n",
              "    <tr>\n",
              "      <th>BsmtFinType2</th>\n",
              "      <td>80</td>\n",
              "    </tr>\n",
              "    <tr>\n",
              "      <th>BsmtFinType1</th>\n",
              "      <td>79</td>\n",
              "    </tr>\n",
              "    <tr>\n",
              "      <th>MasVnrArea</th>\n",
              "      <td>23</td>\n",
              "    </tr>\n",
              "    <tr>\n",
              "      <th>MSZoning</th>\n",
              "      <td>4</td>\n",
              "    </tr>\n",
              "    <tr>\n",
              "      <th>BsmtFullBath</th>\n",
              "      <td>2</td>\n",
              "    </tr>\n",
              "    <tr>\n",
              "      <th>Functional</th>\n",
              "      <td>2</td>\n",
              "    </tr>\n",
              "    <tr>\n",
              "      <th>BsmtHalfBath</th>\n",
              "      <td>2</td>\n",
              "    </tr>\n",
              "    <tr>\n",
              "      <th>Utilities</th>\n",
              "      <td>2</td>\n",
              "    </tr>\n",
              "    <tr>\n",
              "      <th>BsmtFinSF1</th>\n",
              "      <td>1</td>\n",
              "    </tr>\n",
              "    <tr>\n",
              "      <th>Exterior2nd</th>\n",
              "      <td>1</td>\n",
              "    </tr>\n",
              "    <tr>\n",
              "      <th>Exterior1st</th>\n",
              "      <td>1</td>\n",
              "    </tr>\n",
              "    <tr>\n",
              "      <th>Electrical</th>\n",
              "      <td>1</td>\n",
              "    </tr>\n",
              "    <tr>\n",
              "      <th>TotalBsmtSF</th>\n",
              "      <td>1</td>\n",
              "    </tr>\n",
              "    <tr>\n",
              "      <th>BsmtUnfSF</th>\n",
              "      <td>1</td>\n",
              "    </tr>\n",
              "    <tr>\n",
              "      <th>BsmtFinSF2</th>\n",
              "      <td>1</td>\n",
              "    </tr>\n",
              "    <tr>\n",
              "      <th>KitchenQual</th>\n",
              "      <td>1</td>\n",
              "    </tr>\n",
              "    <tr>\n",
              "      <th>GarageArea</th>\n",
              "      <td>1</td>\n",
              "    </tr>\n",
              "    <tr>\n",
              "      <th>GarageCars</th>\n",
              "      <td>1</td>\n",
              "    </tr>\n",
              "    <tr>\n",
              "      <th>SaleType</th>\n",
              "      <td>1</td>\n",
              "    </tr>\n",
              "  </tbody>\n",
              "</table>\n",
              "</div><br><label><b>dtype:</b> int64</label>"
            ]
          },
          "metadata": {},
          "execution_count": 2
        }
      ]
    },
    {
      "cell_type": "code",
      "source": [
        "categorical_fill_none = ['PoolQC', 'MiscFeature', 'Alley', 'Fence', 'FireplaceQu',\n",
        "                         'GarageType', 'GarageFinish', 'GarageQual', 'GarageCond',\n",
        "                         'BsmtQual', 'BsmtCond', 'BsmtExposure', 'BsmtFinType1', 'BsmtFinType2',\n",
        "                         'MasVnrType']\n",
        "\n",
        "numerical_fill_0 = ['GarageYrBlt', 'GarageArea', 'GarageCars', 'BsmtFinSF1', 'BsmtFinSF2',\n",
        "                    'BsmtUnfSF', 'TotalBsmtSF', 'BsmtFullBath', 'BsmtHalfBath', 'MasVnrArea']\n",
        "\n",
        "for col in categorical_fill_none:\n",
        "    full[col] = full[col].fillna(\"None\")\n",
        "\n",
        "for col in numerical_fill_0:\n",
        "    full[col] = full[col].fillna(0)\n",
        "\n",
        "# Fill remaining\n",
        "full['Electrical'] = full['Electrical'].fillna(full['Electrical'].mode()[0])\n",
        "full['LotFrontage'] = full.groupby('Neighborhood')['LotFrontage'].transform(\n",
        "    lambda x: x.fillna(x.median()))\n"
      ],
      "metadata": {
        "id": "FP9RtQVaCEW8"
      },
      "execution_count": 3,
      "outputs": []
    },
    {
      "cell_type": "code",
      "source": [
        "full['TotalSF'] = full['TotalBsmtSF'] + full['1stFlrSF'] + full['2ndFlrSF']\n",
        "full['TotalBath'] = full['FullBath'] + 0.5 * full['HalfBath'] + \\\n",
        "                    full['BsmtFullBath'] + 0.5 * full['BsmtHalfBath']\n",
        "full['TotalPorchSF'] = full['OpenPorchSF'] + full['EnclosedPorch'] + \\\n",
        "                       full['3SsnPorch'] + full['ScreenPorch']\n"
      ],
      "metadata": {
        "id": "ffLb_6JSCHU3"
      },
      "execution_count": 4,
      "outputs": []
    },
    {
      "cell_type": "code",
      "source": [
        "full['Age'] = full['YrSold'] - full['YearBuilt']\n",
        "full['RemodAge'] = full['YrSold'] - full['YearRemodAdd']\n",
        "full['GarageAge'] = full['YrSold'] - full['GarageYrBlt']\n",
        "\n",
        ""
      ],
      "metadata": {
        "id": "UBeIGckACKK6"
      },
      "execution_count": 5,
      "outputs": []
    },
    {
      "cell_type": "code",
      "source": [
        "from sklearn.preprocessing import LabelEncoder\n",
        "\n",
        "ordinal_features = ['ExterQual', 'ExterCond', 'BsmtQual', 'BsmtCond',\n",
        "                    'HeatingQC', 'KitchenQual', 'FireplaceQu', 'GarageQual',\n",
        "                    'GarageCond', 'PoolQC']\n",
        "\n",
        "for feature in ordinal_features:\n",
        "    lbl = LabelEncoder()\n",
        "    full[feature] = lbl.fit_transform(full[feature])\n"
      ],
      "metadata": {
        "id": "MiHvfbu9CMcp"
      },
      "execution_count": 6,
      "outputs": []
    },
    {
      "cell_type": "code",
      "source": [
        "full = pd.get_dummies(full)"
      ],
      "metadata": {
        "id": "AC2pkoRPCQIz"
      },
      "execution_count": 7,
      "outputs": []
    },
    {
      "cell_type": "code",
      "source": [
        "\n",
        "X_train = full[:train.shape[0]]\n",
        "X_test = full[train.shape[0]:]\n",
        "y_train = train['SalePrice']\n"
      ],
      "metadata": {
        "id": "3YpAK9nXCSfN"
      },
      "execution_count": 8,
      "outputs": []
    },
    {
      "cell_type": "code",
      "source": [
        "import numpy as np\n",
        "y_train = np.log1p(y_train)\n"
      ],
      "metadata": {
        "id": "o3m-0Lx-CWWF"
      },
      "execution_count": 9,
      "outputs": []
    },
    {
      "cell_type": "code",
      "source": [
        "from sklearn.preprocessing import StandardScaler\n",
        "\n",
        "scaler = StandardScaler()\n",
        "X_train_scaled = scaler.fit_transform(X_train)\n",
        "X_test_scaled = scaler.transform(X_test)"
      ],
      "metadata": {
        "id": "WE06RYcnCYQx"
      },
      "execution_count": 10,
      "outputs": []
    },
    {
      "cell_type": "code",
      "source": [],
      "metadata": {
        "id": "4dd6rL4CCaU5"
      },
      "execution_count": null,
      "outputs": []
    }
  ]
}